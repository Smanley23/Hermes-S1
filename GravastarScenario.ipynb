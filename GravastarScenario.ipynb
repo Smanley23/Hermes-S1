{
 "cells": [
  {
   "cell_type": "code",
   "execution_count": null,
   "id": "59375002-8b46-4829-b679-4e52d127c1dd",
   "metadata": {},
   "outputs": [
    {
     "name": "stdout",
     "output_type": "stream",
     "text": [
      "Setting up gravastar scenario\n",
      ".\n",
      ".\n",
      ".\n",
      ".\n",
      ".\n",
      "Commencing scenario.\n",
      " Designating user as captain.\n",
      "Captain current indicators suggest an encroaching anomaly. Sensors are not reading correctly.\n"
     ]
    }
   ],
   "source": [
    "\n",
    "print(f'Setting up gravastar scenario')\n",
    "print(f'.')\n",
    "print(f'.')\n",
    "print(f'.')\n",
    "print(f'.')\n",
    "print(f'.')\n",
    "print(f'Commencing scenario.\\n Designating user as captain.')\n",
    "print(f'Captain current indicators suggest an encroaching anomaly. Sensors are not reading correctly.')\n",
    "userInput=input()\n"
   ]
  },
  {
   "cell_type": "code",
   "execution_count": null,
   "id": "920ed0b5-24f4-4da9-b075-5e2d814d01ef",
   "metadata": {},
   "outputs": [],
   "source": [
    "userInput=input()\n",
    "if ('visual' in userInput) or ('image' in userInput) or('out' in userInput)or('images' in userInput)or ('picture' in userInput):\n",
    "    print(f'I can pull up visuals however whatever is out there is blending in with the background.')\n",
    "    userInput=input()\n",
    "    if ('background' in userInput) or ('visual' in userInput):\n",
    "        print('Displaying visual. [Displayed visual is a starry background with what looks like a black circle cut out of it]')\n",
    "        userInput=input()\n",
    "        if ('What' in userInput) or('what' in userInput) or ('database' in userInput):\n",
    "            print('Other than a black hole, of which the sensors do not match, there is only one other possibility, a gravastar')\n",
    "            userInput=input()\n",
    "            if('theorectical' in userInput) or ('fiction'in userInput) or ('fictional'in userInput) or ('thought' in userInput):\n",
    "                print('They were however it appears they are no longer. All data on gravastars indicate they should have a similar gravitational pull to black holes \\n' \\\n",
    "                'I suggest turning around now while we still can')\n",
    "                userInput=input()\n",
    "                if ('study' in userInput):\n",
    "                    print('Unwise, the tidal forces will crush our vessel')\n",
    "                    print('[Scenario end. Action is taken by the crew to move the ship.]')\n",
    "                elif ('turn' in userInput) or('Turn' in userInput) or ('Move' in userInput) or ('move' in userInput) or ('ship' in userInput):\n",
    "                    print('Understood captain.')\n",
    "                    print('[Scenario end. Action is taken by the crew to move the ship.]')\n",
    "                else:\n",
    "                    print('Error, invalid interaction.')\n",
    "            else:\n",
    "                print('Error, invalid interaction.')\n",
    "        else:\n",
    "            print('Error, invalid interaction.')\n",
    "    else:\n",
    "        print('Error, invalid interaction.')\n",
    "elif ('audio' in userInput) or ('sound' in userInput) or ('hear' in userInput) or('sensor'in userInput) or('data' in userInput) or('playback'in userInput):\n",
    "    print(f'What data the sensors could gather indicate mass and no mass at all at the same time.')\n",
    "    userInput=input()\n",
    "    if ('possible' in userInput) or('seem'in userInput):\n",
    "        print('What was once impossible is now highly likely.')\n",
    "        userInput=input()\n",
    "        if ('what' in userInput) or('What'in userInput) or (\"Is there\" in userInput) or (\"is there\" in userInput):\n",
    "            print('Only one thing matches a close description of this anomaly')\n",
    "            userInput=input()\n",
    "            if ('what' in userInput) or('What'in userInput) or (\"that\" in userInput):\n",
    "                print('A gravastar. A star that has collapsed. Instead of turning into a black hole, the extreme force causing it to collapse is met with the extreme force causing it to expand.')\n",
    "                print('The 2 colliding forces smash together the matter between them creating an unbreakable shell.')\n",
    "                userInput = input()\n",
    "                if ('study' in userInput):\n",
    "                    print('Unwise, the tidal forces will crush our vessel')\n",
    "                    print('[Scenario end. Action is taken by the crew to move the ship.]')\n",
    "                elif ('turn' in userInput) or('Turn' in userInput) or ('Move' in userInput) or ('move' in userInput) or ('ship' in userInput):\n",
    "                    print('Understood captain.')\n",
    "                    print('[Scenario end. Action is taken by the crew to move the ship.]')\n",
    "                else:\n",
    "                    print('Error, invalid interaction.')\n",
    "            else:\n",
    "                print('Error, invalid interaction.')\n",
    "        else:\n",
    "            print('Error, invalid interaction.')\n",
    "    else:\n",
    "        print('Error, invalid interaction.')\n",
    "else:\n",
    "    print('Error, invalid interaction.')"
   ]
  }
 ],
 "metadata": {
  "kernelspec": {
   "display_name": "Python 3 (ipykernel)",
   "language": "python",
   "name": "python3"
  },
  "language_info": {
   "codemirror_mode": {
    "name": "ipython",
    "version": 3
   },
   "file_extension": ".py",
   "mimetype": "text/x-python",
   "name": "python",
   "nbconvert_exporter": "python",
   "pygments_lexer": "ipython3",
   "version": "3.13.5"
  }
 },
 "nbformat": 4,
 "nbformat_minor": 5
}
